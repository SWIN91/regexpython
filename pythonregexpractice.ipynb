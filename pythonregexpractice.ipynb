{
 "cells": [
  {
   "cell_type": "code",
   "execution_count": 5,
   "id": "dd68b18b",
   "metadata": {},
   "outputs": [],
   "source": [
    "import re"
   ]
  },
  {
   "cell_type": "code",
   "execution_count": 6,
   "id": "b8669b91",
   "metadata": {},
   "outputs": [
    {
     "data": {
      "text/plain": [
       "['10909090', '1', '2']"
      ]
     },
     "execution_count": 6,
     "metadata": {},
     "output_type": "execute_result"
    }
   ],
   "source": [
    "# Exercise 1\n",
    "# Use a regular expression to find every number in the given string\n",
    "\n",
    "def getNumbers(string):\n",
    "    new_string = re.findall(r'[0-9]+', string)\n",
    "    return new_string\n",
    "  \n",
    "my_string = \"This string has 10909090 numbers, but it is only 1 string. I hope you solve this 2day.\"\n",
    "getNumbers(my_string)\n",
    "\n",
    "# Output: ['10909090','1', '2']"
   ]
  },
  {
   "cell_type": "code",
   "execution_count": 7,
   "id": "d768d5f5",
   "metadata": {},
   "outputs": [
    {
     "name": "stdout",
     "output_type": "stream",
     "text": [
      "None\n",
      "pocohontas1776@gmail.com\n",
      "None\n",
      "yourfavoriteband@g6.org\n",
      "None\n"
     ]
    }
   ],
   "source": [
    "# Exercise 2:\n",
    "# Write a function using regular expressions to find the domain name in the given email addresses (and return None for the invalid email addresses)\n",
    "# HINT: Use '|' for either or\n",
    "\n",
    "# You can also use the $ at the end of your compile expression -- this stops the search\n",
    "\n",
    "#.com OR .org => com|org\n",
    "\n",
    "#Expected output:\n",
    "#None\n",
    "#pocohontas1776@gmail.com\n",
    "#None\n",
    "#yourfavoriteband@g6.org\n",
    "#None\n",
    "\n",
    "my_emails = [\"jordanw@codingtemple.orgcom\", \"pocohontas1776@gmail.com\", \"helloworld@aol..com\",\n",
    "             \"yourfavoriteband@g6.org\", \"@codingtemple.com\"]\n",
    "\n",
    "for email in my_emails:\n",
    "    pattern = re.compile('([\\w]+)@([\\w]+).(com|org)$')\n",
    "    if pattern.match(email):\n",
    "        print(email)\n",
    "    else:\n",
    "        print(None)\n"
   ]
  },
  {
   "cell_type": "code",
   "execution_count": 16,
   "id": "a652d3f9",
   "metadata": {},
   "outputs": [
    {
     "data": {
      "text/plain": [
       "str"
      ]
     },
     "execution_count": 16,
     "metadata": {},
     "output_type": "execute_result"
    }
   ],
   "source": [
    "# Exercise #3\n",
    "# Print each persons name and twitter handle, using groups, should look like:\n",
    "\n",
    "# ==============\n",
    "# Full Name / Twitter\n",
    "# ==============\n",
    "\n",
    "# Derek Hawkins / @derekhawkins\n",
    "# Erik Sven-Osterberg / @sverik\n",
    "\n",
    "# Ryan Butz / @ryanbutz\n",
    "\n",
    "# Example Exampleson / @example\n",
    "\n",
    "# Ripal Pael / @ripalp\n",
    "\n",
    "# Darth Vader / @darthvader"
   ]
  },
  {
   "cell_type": "code",
   "execution_count": 8,
   "id": "7c093010",
   "metadata": {},
   "outputs": [
    {
     "name": "stdout",
     "output_type": "stream",
     "text": [
      "['Hawkins, Derek\\tderek@codingtemple.com\\t(555) 555-5555\\tTeacher, Coding Temple\\t@derekhawkins\\n', 'Zhai, Mo\\tmozhai@codingtemple.com\\t(555) 555-5554\\tTeacher, Coding Temple\\n', 'Johnson, Joe\\tjoejohnson@codingtemple.com\\t\\tJohson, Joe\\n', 'Osterberg, Sven-Erik\\tgovernor@norrbotten.co.se\\t\\tGovernor, Norrbotten\\t@sverik\\n', ', Tim\\ttim@killerrabbit.com\\t\\tEnchanter, Killer Rabbit Cave\\n', 'Butz, Ryan\\tryanb@codingtemple.com\\t(555) 555-5543\\tCEO, Coding Temple\\t@ryanbutz\\n', 'Doctor, The\\tdoctor+companion@tardis.co.uk\\t\\tTime Lord, Gallifrey\\n', 'Exampleson, Example\\tme@example.com\\t555-555-5552\\tExample, Example Co.\\t@example\\n', 'Pael, Ripal\\tripalp@codingtemple.com\\t(555) 555-5553\\tTeacher, Coding Temple\\t@ripalp\\n', 'Vader, Darth\\tdarth-vader@empire.gov\\t(555) 555-4444\\tSith Lord, Galactic Empire\\t@darthvader\\n', 'Fernandez de la Vega Sanz, Maria Teresa\\tmtfvs@spain.gov\\t\\tFirst Deputy Prime Minister, Spanish Gov\\n']\n"
     ]
    }
   ],
   "source": [
    "with open('./files/names.txt') as f:\n",
    "    data = f.readlines()\n",
    "    print(data)\n"
   ]
  },
  {
   "cell_type": "code",
   "execution_count": 61,
   "id": "4a8006ed",
   "metadata": {},
   "outputs": [
    {
     "name": "stdout",
     "output_type": "stream",
     "text": [
      "==============\n",
      "Full Name / Twitter\n",
      "==============\n",
      " Derek Hawkins / @derekhawkins\n",
      "\n",
      " Sven-Erik Osterberg / @sverik\n",
      "\n",
      " Ryan Butz / @ryanbutz\n",
      "\n",
      " Example Exampleson / @example\n",
      "\n",
      " Ripal Pael / @ripalp\n",
      "\n",
      " Darth Vader / @darthvader\n",
      "\n"
     ]
    }
   ],
   "source": [
    "print('==============\\nFull Name / Twitter\\n==============')\n",
    "for person in data:\n",
    "    match = re.match('([A-Z][a-z]+), ([A-Z][a-zA-Z-]+)\\s[\\w\\W]*\\s(@[a-z]+)', person)\n",
    "    if match:\n",
    "        print(f' {match.group(2)} {match.group(1)} / {match.group(3)}\\n')"
   ]
  },
  {
   "cell_type": "code",
   "execution_count": 59,
   "id": "1375ac32",
   "metadata": {},
   "outputs": [
    {
     "name": "stdout",
     "output_type": "stream",
     "text": [
      "<re.Match object; span=(0, 89), match='Hawkins, Derek\\tderek@codingtemple.com\\t(555) 555>\n",
      "None\n",
      "None\n",
      "<re.Match object; span=(0, 76), match='Osterberg, Sven-Erik\\tgovernor@norrbotten.co.se\\t>\n",
      "None\n",
      "<re.Match object; span=(0, 77), match='Butz, Ryan\\tryanb@codingtemple.com\\t(555) 555-554>\n",
      "None\n",
      "<re.Match object; span=(0, 77), match='Exampleson, Example\\tme@example.com\\t555-555-5552>\n",
      "<re.Match object; span=(0, 81), match='Pael, Ripal\\tripalp@codingtemple.com\\t(555) 555-5>\n",
      "<re.Match object; span=(0, 89), match='Vader, Darth\\tdarth-vader@empire.gov\\t(555) 555-4>\n",
      "None\n"
     ]
    }
   ],
   "source": [
    "for person in data:\n",
    "    match = re.match('([A-Z][a-z]+), ([A-Z][a-zA-Z-]+)\\s[\\w\\W]*\\s(@[a-z]+)', person)\n",
    "    print(match)"
   ]
  },
  {
   "cell_type": "code",
   "execution_count": 10,
   "id": "2097e78c",
   "metadata": {},
   "outputs": [],
   "source": [
    "# Regex project\n",
    "# Use python to read the file regex_test.txt and print the \n",
    "# last name on each line using regular expressions and groups\n",
    "# (return None for names with no first and last name, or names that aren't properly capitalized)\n",
    "\n",
    "\n",
    "# Expected Output\n",
    "# \"\"\"\n",
    "# Abraham Lincoln\n",
    "# Andrew P Garfield\n",
    "# Connor Milliken\n",
    "# Jordan Alexander Williams\n",
    "# None\n",
    "# None\n",
    "# \"\"\"\"\n",
    "\n"
   ]
  },
  {
   "cell_type": "code",
   "execution_count": 3,
   "id": "f334f978",
   "metadata": {},
   "outputs": [
    {
     "name": "stdout",
     "output_type": "stream",
     "text": [
      "['Abraham Lincoln\\n', 'Andrew P Garfield\\n', 'Connor Milliken\\n', 'Jordan Alexander Williams\\n', 'Madonna\\n', 'programming is cool\\n']\n"
     ]
    }
   ],
   "source": [
    "with open('./files/regex_test.txt') as n:\n",
    "    info = n.readlines()\n",
    "    print(info)\n",
    "    \n",
    "    "
   ]
  },
  {
   "cell_type": "code",
   "execution_count": 188,
   "id": "3ddfab02",
   "metadata": {},
   "outputs": [
    {
     "name": "stdout",
     "output_type": "stream",
     "text": [
      "Abraham Lincoln\n",
      "Andrew P\n",
      "Connor Milliken\n",
      "Jordan Alexander\n",
      "Madonna None\n"
     ]
    }
   ],
   "source": [
    "    for name in info:\n",
    "        new_match = re.match('([A-Z]\\w+)(?:\\s)([A-Z](\\w+)?)?([A-Z](\\w+)?)?', name)   \n",
    "        if new_match:\n",
    "            print(f'{new_match.group(1)} {new_match.group(2)}')\n",
    "        "
   ]
  },
  {
   "cell_type": "code",
   "execution_count": null,
   "id": "50c0a4f0",
   "metadata": {},
   "outputs": [],
   "source": []
  },
  {
   "cell_type": "code",
   "execution_count": null,
   "id": "3b14dc22",
   "metadata": {},
   "outputs": [],
   "source": []
  }
 ],
 "metadata": {
  "kernelspec": {
   "display_name": "Python 3",
   "language": "python",
   "name": "python3"
  },
  "language_info": {
   "codemirror_mode": {
    "name": "ipython",
    "version": 3
   },
   "file_extension": ".py",
   "mimetype": "text/x-python",
   "name": "python",
   "nbconvert_exporter": "python",
   "pygments_lexer": "ipython3",
   "version": "3.8.8"
  }
 },
 "nbformat": 4,
 "nbformat_minor": 5
}
